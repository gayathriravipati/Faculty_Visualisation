{
 "cells": [
  {
   "cell_type": "code",
   "execution_count": 1,
   "id": "5f8b7d80-851a-4706-ab6b-359d1533a7bc",
   "metadata": {},
   "outputs": [],
   "source": [
    "import pandas as pd\n",
    "import re"
   ]
  },
  {
   "cell_type": "code",
   "execution_count": 7,
   "id": "4131316a-c48c-4ecc-a9e7-c8d337c772f1",
   "metadata": {},
   "outputs": [],
   "source": [
    "# Read the CSV file\n",
    "data = pd.read_csv('/Users/gayathri/Documents/Communication_Faculty/keyword.csv')\n",
    "\n",
    "# # Group the data by names and aggregate interests as a list\n",
    "# modified_data = data.groupby(\"Name\")[\"Interests\"].apply(list).reset_index()\n",
    "\n",
    "# # Save the modified data to a new CSV file\n",
    "# modified_data.to_csv(\"modified_data.csv\", index=False)"
   ]
  },
  {
   "cell_type": "code",
   "execution_count": 3,
   "id": "63eefdbe-9e80-49e5-a27a-dbc908f9510a",
   "metadata": {},
   "outputs": [
    {
     "name": "stdout",
     "output_type": "stream",
     "text": [
      "['applied communication', 'applied research', 'assessment', 'behavior change', 'cancer', 'collaboration', 'communication technologies in education', 'communication technology', 'communities', 'community', 'community engagement', 'community-based participatory research', 'conversation analysis', 'coping', 'culture', 'data science', 'digital media', 'disclosure', 'discolsure', 'discursive psychology', 'emotion in interaction', 'engagement', 'family', 'family communication', 'health', 'health communication', 'health inequities', 'inequality', 'influencer marketing', 'innovation', 'interorganizational relations', 'interorganizational relationships', 'interpersonal communication', 'interviewing', 'leadership', 'marginalized communities', 'media', 'mental health communication', 'metaverse marketing', 'methods', 'microanalysis', 'misinformation', 'network analysis', 'networks', 'observation', 'online learning', 'organizational change', 'organizational renewal', 'organizations', 'organizing', 'parent-child interaction', 'pedagogy', 'political communication', 'privacy', 'public relations', 'public speaking', 'relational', 'resilience', 'resisting oppression', 'romantic relationships', 'social impact', 'social interaction', 'social media', 'social networks', 'socialization', 'stakeholders', 'strategic development', 'strategy', 'technology', 'uncertainty', 'urban']\n"
     ]
    }
   ],
   "source": [
    "import pandas as pd\n",
    "import ast  # Import the ast module for literal evaluation\n",
    "\n",
    "# Read the modified CSV file\n",
    "data = pd.read_csv(\"modified_data.csv\")\n",
    "\n",
    "# Initialize a set to store unique interests\n",
    "unique_interests = set()\n",
    "\n",
    "# Iterate through the list of interests and clean them\n",
    "for interests in data[\"Interests\"]:\n",
    "    # Use ast.literal_eval to safely evaluate the strings as lists\n",
    "    interests_list = ast.literal_eval(interests)\n",
    "    \n",
    "    # Extend the unique_interests set with the cleaned interests\n",
    "    unique_interests.update(interests_list)\n",
    "\n",
    "# Convert the set to a list and sort it alphabetically\n",
    "unique_interests_list = sorted(list(unique_interests))\n",
    "\n",
    "# Print or use the sorted unique interests list as needed\n",
    "print(unique_interests_list)"
   ]
  },
  {
   "cell_type": "code",
   "execution_count": 9,
   "id": "a7145a6d-0311-476a-af3e-9857029f0a74",
   "metadata": {},
   "outputs": [
    {
     "name": "stdout",
     "output_type": "stream",
     "text": [
      "Single Occurrence Interest Names:\n",
      "['influencer marketing', 'public relations', 'disclosure', 'community-based participatory research', 'digital media', 'mental health communication', 'applied communication', 'metaverse marketing', 'pedagogy', 'communities', 'parent-child interaction', 'social networks', 'resisting oppression', 'social impact', 'innovation', 'organizing', 'organizations', 'applied research', 'health inequities', 'network analysis', 'strategic development', 'organizational change', 'organizational renewal', 'communication technologies in education', 'online learning', 'data science', 'communication technology', 'interorganizational relationships', 'coping', 'discolsure', 'marginalized communities', 'public speaking', 'discursive psychology', 'emotion in interaction', 'leadership', 'strategy', 'relational', 'collaboration', 'stakeholders', 'socialization', 'interorganizational relations', 'microanalysis', 'observation', 'interviewing', 'social interaction', 'health communication', 'culture', 'behavior change', 'urban', 'methods', 'romantic relationships', 'uncertainty', 'misinformation', 'interpersonal communication', 'conversation analysis', 'privacy', 'engagement', 'family communication', 'cancer']\n"
     ]
    }
   ],
   "source": [
    "import pandas as pd\n",
    "\n",
    "# Read the CSV file into a DataFrame\n",
    "df = pd.read_csv('/Users/gayathri/Documents/Communication_Faculty/keywords.csv')\n",
    "\n",
    "# Count the occurrences of each interest\n",
    "interest_counts = df['Interests'].value_counts()\n",
    "\n",
    "# Get the interests that occur only once\n",
    "single_occurrence_interests = interest_counts[interest_counts == 1].index\n",
    "\n",
    "# Add single occurrence interest names to a list\n",
    "single_occurrence_interests_list = list(single_occurrence_interests)\n",
    "\n",
    "# Print the list of single occurrence interest names\n",
    "print(\"Single Occurrence Interest Names:\")\n",
    "print(single_occurrence_interests_list)\n",
    "\n",
    "# Remove rows with interests that occur only once\n",
    "df_filtered = df[~df['Interests'].isin(single_occurrence_interests)]\n",
    "\n",
    "# Save the filtered DataFrame back to a new CSV file\n",
    "df_filtered.to_csv('filtered_file.csv', index=False)\n"
   ]
  },
  {
   "cell_type": "code",
   "execution_count": 14,
   "id": "7943b293-eaa8-4c89-806e-01e72343def5",
   "metadata": {},
   "outputs": [
    {
     "name": "stdout",
     "output_type": "stream",
     "text": [
      "{'dataPoint': 'Brent Ruben', 'interests': ['assessment']}\n",
      "{'dataPoint': 'Brian Householder', 'interests': ['assessment']}\n",
      "{'dataPoint': 'Galina Bolden', 'interests': ['health', 'family']}\n",
      "{'dataPoint': 'Itzhak Yanovitzky', 'interests': ['community engagement']}\n",
      "{'dataPoint': 'Jeff Lane', 'interests': ['inequality', 'community']}\n",
      "{'dataPoint': 'Jen Theiss', 'interests': ['family', 'resilience']}\n",
      "{'dataPoint': 'Katherine Ognyanova', 'interests': ['networks', 'media', 'technology', 'political communication']}\n",
      "{'dataPoint': 'Kristina Scharp', 'interests': ['resilience']}\n",
      "{'dataPoint': 'Maria Venetis', 'interests': ['resilience']}\n",
      "{'dataPoint': 'Mark Beal', 'interests': ['social media']}\n",
      "{'dataPoint': 'Marya Doerfel', 'interests': ['resilience']}\n",
      "{'dataPoint': 'Matthew Matsaganis', 'interests': ['community', 'resilience', 'media']}\n",
      "{'dataPoint': 'Matthew Weber', 'interests': ['networks', 'media', 'technology', 'community']}\n",
      "{'dataPoint': nan, 'interests': []}\n",
      "{'dataPoint': 'Nick Linardopoulos', 'interests': ['political communication', 'technology']}\n",
      "{'dataPoint': 'Sarah Shugars', 'interests': ['social media', 'technology', 'political communication']}\n",
      "{'dataPoint': 'Sophia Fu', 'interests': ['technology', 'networks']}\n",
      "{'dataPoint': 'Yoni Rivera', 'interests': ['health', 'social media', 'community engagement', 'inequality']}\n"
     ]
    }
   ],
   "source": [
    "import pandas as pd\n",
    "\n",
    "# Read the CSV file into a DataFrame\n",
    "df = pd.read_csv('/Users/gayathri/Documents/Communication_Faculty/filtered_file.csv')\n",
    "\n",
    "# Initialize an empty dictionary to store the formatted data\n",
    "formatted_data = {}\n",
    "\n",
    "# Iterate through each row in the DataFrame\n",
    "for index, row in df.iterrows():\n",
    "    # Extract the Name and Interests values\n",
    "    name = row['Name']\n",
    "\n",
    "    # Check if 'Interests' is a string\n",
    "    if isinstance(row['Interests'], str):\n",
    "        interests = row['Interests'].split(', ')\n",
    "    else:\n",
    "        interests = []\n",
    "\n",
    "    # If the data point is already in the dictionary, append the interests\n",
    "    if name in formatted_data:\n",
    "        formatted_data[name]['interests'].extend(interests)\n",
    "    else:\n",
    "        # Otherwise, create a new entry\n",
    "        formatted_data[name] = {'dataPoint': name, 'interests': interests}\n",
    "\n",
    "# Convert the dictionary values to a list\n",
    "formatted_data_list = list(formatted_data.values())\n",
    "\n",
    "# Print the formatted data\n",
    "for data_point in formatted_data_list:\n",
    "    print(data_point)\n"
   ]
  },
  {
   "cell_type": "code",
   "execution_count": 13,
   "id": "41844c1d-83c7-4621-8da9-ae0ffa684a19",
   "metadata": {},
   "outputs": [
    {
     "ename": "SyntaxError",
     "evalue": "invalid syntax (1533496643.py, line 1)",
     "output_type": "error",
     "traceback": [
      "\u001b[0;36m  Cell \u001b[0;32mIn[13], line 1\u001b[0;36m\u001b[0m\n\u001b[0;31m    merge Matthew Weber', 'interests': ['networks']}\u001b[0m\n\u001b[0m          ^\u001b[0m\n\u001b[0;31mSyntaxError\u001b[0m\u001b[0;31m:\u001b[0m invalid syntax\n"
     ]
    }
   ],
   "source": []
  },
  {
   "cell_type": "code",
   "execution_count": null,
   "id": "c81dfb71-5187-4abe-a3d3-59a9b25ac181",
   "metadata": {},
   "outputs": [],
   "source": []
  },
  {
   "cell_type": "code",
   "execution_count": null,
   "id": "92d03395-63ed-42f7-8f64-5eb71776fae8",
   "metadata": {},
   "outputs": [],
   "source": []
  }
 ],
 "metadata": {
  "kernelspec": {
   "display_name": "Python 3 (ipykernel)",
   "language": "python",
   "name": "python3"
  },
  "language_info": {
   "codemirror_mode": {
    "name": "ipython",
    "version": 3
   },
   "file_extension": ".py",
   "mimetype": "text/x-python",
   "name": "python",
   "nbconvert_exporter": "python",
   "pygments_lexer": "ipython3",
   "version": "3.9.6"
  }
 },
 "nbformat": 4,
 "nbformat_minor": 5
}
